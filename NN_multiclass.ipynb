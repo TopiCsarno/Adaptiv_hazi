{
 "metadata": {
  "language_info": {
   "codemirror_mode": {
    "name": "ipython",
    "version": 3
   },
   "file_extension": ".py",
   "mimetype": "text/x-python",
   "name": "python",
   "nbconvert_exporter": "python",
   "pygments_lexer": "ipython3",
   "version": "3.8.6"
  },
  "orig_nbformat": 2,
  "kernelspec": {
   "name": "python386jvsc74a57bd068199fbcc85441655762fe91afe41ef008a3a18a3af0fa4cd1673d6d13b2df45",
   "display_name": "Python 3.8.6 64-bit ('ml': virtualenvwrapper)"
  }
 },
 "nbformat": 4,
 "nbformat_minor": 2,
 "cells": [
  {
   "cell_type": "code",
   "execution_count": null,
   "metadata": {},
   "outputs": [],
   "source": [
    "import numpy as np\n",
    "from src.layers.dense import DenseLayer\n",
    "from src.model import Model\n",
    "from src.optimizers import gradient_descent\n",
    "from src.utils import one_hot_enc\n",
    "from src.utils import generate_batches\n",
    "from src.metrics import accuracy_categ_ce"
   ]
  },
  {
   "cell_type": "code",
   "execution_count": null,
   "metadata": {},
   "outputs": [],
   "source": [
    "# Generate Dataset\n",
    "from sklearn.datasets import make_blobs\n",
    "from sklearn.model_selection import train_test_split\n",
    "\n",
    "N_SAMPLES = 2000\n",
    "N_CLASSES = 6\n",
    "N_FEATURES = 2\n",
    "TEST_SIZE = 0.1\n",
    "\n",
    "X, y = make_blobs(n_samples=N_SAMPLES, n_features=N_FEATURES, centers=N_CLASSES, cluster_std=1.2, random_state=50)\n",
    "X_train, X_test, y_train, y_test = train_test_split(X, y, test_size=TEST_SIZE, random_state=42)\n",
    "\n",
    "y_test = one_hot_enc(y_test)\n",
    "y_train = one_hot_enc(y_train)\n",
    "\n",
    "print(X_train.shape, y_train.shape)\n",
    "print(X_test.shape, y_test.shape)"
   ]
  },
  {
   "cell_type": "code",
   "execution_count": null,
   "metadata": {},
   "outputs": [],
   "source": [
    "layers = [\n",
    "    DenseLayer(nodes_prev=N_FEATURES,  nodes_curr=25, activation=\"relu\"),\n",
    "    DenseLayer(nodes_prev=25, nodes_curr=50, activation=\"relu\"),\n",
    "    DenseLayer(nodes_prev=50, nodes_curr=50, activation=\"relu\"),\n",
    "    DenseLayer(nodes_prev=50, nodes_curr=50, activation=\"relu\"),\n",
    "    DenseLayer(nodes_prev=50, nodes_curr=25, activation=\"relu\"),\n",
    "    DenseLayer(nodes_prev=25, nodes_curr=N_CLASSES, activation=\"softmax\")\n",
    "]\n",
    "\n",
    "model = Model(\n",
    "    layers=layers, \n",
    "    optimizer=gradient_descent,\n",
    "    costfn=\"CCE\"\n",
    ")"
   ]
  },
  {
   "cell_type": "code",
   "execution_count": null,
   "metadata": {
    "tags": []
   },
   "outputs": [],
   "source": [
    "hist = model.fit(X_train, y_train, epoch=20, lr=0.001, batch_size=1)"
   ]
  },
  {
   "cell_type": "code",
   "execution_count": null,
   "metadata": {},
   "outputs": [],
   "source": [
    "accuracy_categ_ce(y=y_test, y_hat=model.predict(X_test))"
   ]
  },
  {
   "cell_type": "code",
   "execution_count": null,
   "metadata": {},
   "outputs": [],
   "source": [
    "import matplotlib.pyplot as plt \n",
    "\n",
    "plt.figure(figsize=(12,6))\n",
    "plt.plot(hist)\n",
    "plt.legend(['cost', 'accuracy'])\n",
    "plt.show()"
   ]
  },
  {
   "cell_type": "code",
   "execution_count": null,
   "metadata": {},
   "outputs": [],
   "source": []
  }
 ]
}