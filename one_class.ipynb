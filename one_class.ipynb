{
 "metadata": {
  "language_info": {
   "codemirror_mode": {
    "name": "ipython",
    "version": 3
   },
   "file_extension": ".py",
   "mimetype": "text/x-python",
   "name": "python",
   "nbconvert_exporter": "python",
   "pygments_lexer": "ipython3",
   "version": "3.8.6-final"
  },
  "orig_nbformat": 2,
  "kernelspec": {
   "name": "python386jvsc74a57bd068199fbcc85441655762fe91afe41ef008a3a18a3af0fa4cd1673d6d13b2df45",
   "display_name": "Python 3.8.6 64-bit ('ml')"
  }
 },
 "nbformat": 4,
 "nbformat_minor": 2,
 "cells": [
  {
   "source": [
    "import numpy as np\n",
    "from src.denselayer import DenseLayer\n",
    "from src.model_bin import Model\n",
    "from src.optimizers import gradient_descent"
   ],
   "cell_type": "code",
   "metadata": {},
   "execution_count": 1,
   "outputs": []
  },
  {
   "cell_type": "code",
   "execution_count": 2,
   "metadata": {},
   "outputs": [
    {
     "output_type": "stream",
     "name": "stdout",
     "text": [
      "(1600, 2) (1600,)\n(400, 2) (400,)\n"
     ]
    }
   ],
   "source": [
    "# Generate Dataset\n",
    "from sklearn.datasets import make_moons\n",
    "from sklearn.model_selection import train_test_split\n",
    "\n",
    "N_SAMPLES = 2000\n",
    "TEST_SIZE = 0.2\n",
    "\n",
    "X, y = make_moons(n_samples = N_SAMPLES, noise=0.2, random_state=42)\n",
    "X_train, X_test, y_train, y_test = train_test_split(X, y, test_size=TEST_SIZE, random_state=42)\n",
    "\n",
    "print(X_train.shape, y_train.shape)\n",
    "print(X_test.shape, y_test.shape)"
   ]
  },
  {
   "source": [
    "# Test model"
   ],
   "cell_type": "markdown",
   "metadata": {}
  },
  {
   "cell_type": "code",
   "execution_count": 9,
   "metadata": {},
   "outputs": [],
   "source": [
    "layers = [\n",
    "    DenseLayer(nodes_prev=2,  nodes_curr=25, activation=\"relu\"),\n",
    "    DenseLayer(nodes_prev=25, nodes_curr=50, activation=\"relu\"),\n",
    "    DenseLayer(nodes_prev=50, nodes_curr=50, activation=\"relu\"),\n",
    "    DenseLayer(nodes_prev=50, nodes_curr=25, activation=\"relu\"),\n",
    "    DenseLayer(nodes_prev=25, nodes_curr=1, activation=\"sigmoid\")\n",
    "]\n",
    "\n",
    "model = Model(\n",
    "    layers=layers, \n",
    "    optimizer=gradient_descent\n",
    ")"
   ]
  },
  {
   "cell_type": "code",
   "execution_count": 10,
   "metadata": {
    "tags": []
   },
   "outputs": [
    {
     "output_type": "stream",
     "name": "stdout",
     "text": [
      "Iteration: 1\t cost: 0.69124\taccuracy: 71.38%\n",
      "Iteration: 10\t cost: 0.59217\taccuracy: 82.06%\n",
      "Iteration: 20\t cost: 0.25980\taccuracy: 88.31%\n",
      "Iteration: 30\t cost: 0.14865\taccuracy: 94.19%\n",
      "Iteration: 40\t cost: 0.08294\taccuracy: 96.56%\n",
      "Iteration: 50\t cost: 0.07883\taccuracy: 96.75%\n"
     ]
    }
   ],
   "source": [
    "history = model.fit(X_train, y_train, epoch=50, lr=0.001, bs=1)"
   ]
  },
  {
   "cell_type": "code",
   "execution_count": null,
   "metadata": {},
   "outputs": [],
   "source": [
    "import matplotlib.pyplot as plt \n",
    "\n",
    "plt.figure(figsize=(12,6))\n",
    "plt.plot(history)\n",
    "plt.legend(['cost', 'accuracy'])\n",
    "plt.show()"
   ]
  },
  {
   "cell_type": "code",
   "execution_count": null,
   "metadata": {},
   "outputs": [],
   "source": []
  },
  {
   "cell_type": "code",
   "execution_count": null,
   "metadata": {},
   "outputs": [],
   "source": []
  }
 ]
}